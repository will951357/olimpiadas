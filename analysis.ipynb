{
 "cells": [
  {
   "cell_type": "code",
   "execution_count": 1085,
   "metadata": {},
   "outputs": [],
   "source": [
    "%history -g -f history.txt"
   ]
  },
  {
   "cell_type": "markdown",
   "metadata": {},
   "source": [
    "O interessante é ver que apenas sete paises participaram de todas as edições."
   ]
  },
  {
   "cell_type": "code",
   "execution_count": null,
   "metadata": {},
   "outputs": [],
   "source": [
    "\n",
    "participacoes_paises = mesclado.drop_duplicates(subset=['ID', 'Year'])\n",
    "paises_agrupado = participacoes_paises.groupby(['Year', 'region']).first().reset_index()\n",
    "\n",
    "contagem = paises_agrupado['region'].value_counts().sort_values(ascending=False)\n",
    "\n",
    "plt.figure(figsize=(15,5))\n",
    "ax = contagem.head(20).plot(kind='bar')\n",
    "ax.set_facecolor('white')\n",
    "ax.set_xlabel('')\n",
    "ax.set_ylabel('Número de Participações')\n",
    "ax.set_title('Número de participações por País (top 20)', fontsize=15, fontweight=\"bold\")\n",
    "\n",
    "plt.tight_layout()"
   ]
  },
  {
   "cell_type": "markdown",
   "metadata": {},
   "source": [
    "### 7.2. Países e suas participações\n",
    "\n",
    "Vamos analisar os 10 países que mais participaram das olipíadas nesses 120 anos.\n",
    "Como queremos buscar o numero de participações, ou seja, aparições nos jogos, primeiro será necessário remover os valores duplicados e depois realizar a análise."
   ]
  }
 ],
 "metadata": {
  "language_info": {
   "name": "python"
  }
 },
 "nbformat": 4,
 "nbformat_minor": 2
}
